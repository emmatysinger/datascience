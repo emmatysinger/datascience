{
 "cells": [
  {
   "cell_type": "markdown",
   "metadata": {},
   "source": [
    "# Interest Table \n",
    "This notebook creates a table and a plot showing a 3.5% interest on 1000 dollars over 30 years.\n",
    "\n",
    "Interest Formula: $A=P(1+r)^t$"
   ]
  },
  {
   "cell_type": "code",
   "execution_count": 2,
   "metadata": {},
   "outputs": [],
   "source": [
    "from numpy import radians, sin\n",
    "from numpy import linspace\n",
    "import matplotlib.pyplot as plt\n",
    "import pandas as pd"
   ]
  },
  {
   "cell_type": "code",
   "execution_count": 3,
   "metadata": {},
   "outputs": [
    {
     "name": "stdout",
     "output_type": "stream",
     "text": [
      "    years  value_float value_str\n",
      "0       0      1000.00   $1000.0\n",
      "1       1      1035.00   $1035.0\n",
      "2       2      1071.22  $1071.22\n",
      "3       3      1108.72  $1108.72\n",
      "4       4      1147.52  $1147.52\n",
      "5       5      1187.69  $1187.69\n",
      "6       6      1229.26  $1229.26\n",
      "7       7      1272.28  $1272.28\n",
      "8       8      1316.81  $1316.81\n",
      "9       9      1362.90   $1362.9\n",
      "10     10      1410.60   $1410.6\n",
      "11     11      1459.97  $1459.97\n",
      "12     12      1511.07  $1511.07\n",
      "13     13      1563.96  $1563.96\n",
      "14     14      1618.69  $1618.69\n",
      "15     15      1675.35  $1675.35\n",
      "16     16      1733.99  $1733.99\n",
      "17     17      1794.68  $1794.68\n",
      "18     18      1857.49  $1857.49\n",
      "19     19      1922.50   $1922.5\n",
      "20     20      1989.79  $1989.79\n",
      "21     21      2059.43  $2059.43\n",
      "22     22      2131.51  $2131.51\n",
      "23     23      2206.11  $2206.11\n",
      "24     24      2283.33  $2283.33\n",
      "25     25      2363.24  $2363.24\n",
      "26     26      2445.96  $2445.96\n",
      "27     27      2531.57  $2531.57\n",
      "28     28      2620.17  $2620.17\n",
      "29     29      2711.88  $2711.88\n",
      "30     30      2806.79  $2806.79\n"
     ]
    }
   ],
   "source": [
    "df = pd.DataFrame()\n",
    "df['years'] = range(0,31)\n",
    "df['value_float'] = round(1000*(1.035**df.years),2)\n",
    "df['value_str'] = [\"$\"+ str(round(x,2)) for x in df.value_float]\n",
    "print (df)"
   ]
  },
  {
   "cell_type": "code",
   "execution_count": 9,
   "metadata": {},
   "outputs": [
    {
     "data": {
      "image/png": "[encoded data removed]",
      "text/plain": [
       "<matplotlib.figure.Figure at 0x7fcccc24c550>"
      ]
     },
     "metadata": {
      "needs_background": "light"
     },
     "output_type": "display_data"
    }
   ],
   "source": [
    "plt.plot(df.years,df.value_float)\n",
    "plt.xlabel('Years after intial deposit')\n",
    "plt.ylabel('Investment ($)')\n",
    "plt.legend('$')\n",
    "plt.show()"
   ]
  },
  {
   "cell_type": "code",
   "execution_count": null,
   "metadata": {},
   "outputs": [],
   "source": []
  }
 ],
 "metadata": {
  "kernelspec": {
   "display_name": "Python 3",
   "language": "python",
   "name": "python3"
  },
  "language_info": {
   "codemirror_mode": {
    "name": "ipython",
    "version": 3
   },
   "file_extension": ".py",
   "mimetype": "text/x-python",
   "name": "python",
   "nbconvert_exporter": "python",
   "pygments_lexer": "ipython3",
   "version": "3.5.2"
  }
 },
 "nbformat": 4,
 "nbformat_minor": 2
}
